{
 "cells": [
  {
   "cell_type": "code",
   "execution_count": null,
   "id": "a6be1693-c43a-49b3-98e8-52222e56a910",
   "metadata": {},
   "outputs": [],
   "source": [
    "import os\n",
    "import random\n",
    "\n",
    "import geopandas as gpd\n",
    "import matplotlib.pyplot as plt\n",
    "import numpy as np\n",
    "import osmnx as ox\n",
    "import pandas as pd\n",
    "from geometry_utils import generate_grid\n",
    "from geometry_utils.gmaps_tiles import GoogleMapsTiles\n",
    "from shapely.affinity import affine_transform\n",
    "from shapely.geometry import Point, Polygon, box\n",
    "from shapely.ops import triangulate\n",
    "from tqdm.auto import tqdm"
   ]
  },
  {
   "cell_type": "code",
   "execution_count": null,
   "id": "6cc02c95-0522-420f-b606-552a46f9064d",
   "metadata": {},
   "outputs": [],
   "source": [
    "def generator_points_in_polygon(polygon):\n",
    "    areas = []\n",
    "    transforms = []\n",
    "    for t in triangulate(polygon):\n",
    "        areas.append(t.area)\n",
    "        (x0, y0), (x1, y1), (x2, y2), _ = t.exterior.coords\n",
    "        transforms.append([x1 - x0, x2 - x0, y2 - y0, y1 - y0, x0, y0])\n",
    "    while True:\n",
    "        transform = random.choices(transforms, weights=areas, k=1)[0]\n",
    "        x, y = [random.random() for _ in range(2)]\n",
    "        if x + y > 1:\n",
    "            p = Point(1 - x, 1 - y)\n",
    "        else:\n",
    "            p = Point(x, y)\n",
    "        yield affine_transform(p, transform)\n",
    "\n",
    "\n",
    "def buildings_in_tile(bbox, crs=None, timeout=180) -> gpd.GeoDataFrame:\n",
    "    ox.settings.log_console = False\n",
    "    ox.settings.use_cache = False\n",
    "    ox.settings.requests_timeout = timeout\n",
    "\n",
    "    gdf = ox.features.features_from_bbox(bbox=bbox, tags={'building': True})\n",
    "    if crs is not None:\n",
    "        gdf = gdf.to_crs(crs)\n",
    "    return gdf\n",
    "\n",
    "\n",
    "def proj_bbox(bbox, crs_in, crs_out, buffer=0):\n",
    "    b = gpd.GeoSeries([bbox.buffer(buffer)], crs=crs_in).to_crs(crs_out)\n",
    "    return b.total_bounds\n",
    "\n",
    "\n",
    "def compute_batch(gen, zoom, batch_size, y_threshold=10):\n",
    "    batch_X, batch_y = [], []\n",
    "    k = 0\n",
    "    while len(batch_X) < batch_size:\n",
    "        try:\n",
    "            p = next(gen)\n",
    "            x, y, tile = GoogleMapsTiles.download_numpy(lon=p.x, lat=p.y, zoom=zoom)\n",
    "            mesh = generate_grid(*np.meshgrid(x, y), crs=GoogleMapsTiles.CRS, return_indices=True)\n",
    "            mesh['cell_area'] = mesh.geometry.area\n",
    "\n",
    "            bbox = box(x.min(), y.min(), x.max(), y.max())\n",
    "            west, south, east, north = proj_bbox(bbox, crs_in=GoogleMapsTiles.CRS, crs_out=4326, buffer=50.)\n",
    "\n",
    "            bati = buildings_in_tile(bbox=(north, south, east, west)).to_crs(GoogleMapsTiles.CRS)\n",
    "\n",
    "            overlay = bati.overlay(mesh).dissolve(['iy', 'ix'])\n",
    "            overlay['frac_bati'] = overlay.geometry.area/overlay['cell_area']\n",
    "            y = (overlay.reindex(mesh.set_index(['iy', 'ix']).index)['frac_bati'].values.reshape(256, 256) > 0.33).astype(np.uint8)\n",
    "            if y.sum() >= y_threshold:\n",
    "                batch_X.append(tile)\n",
    "                batch_y.append(np.flip(y, axis=0))\n",
    "        except Exception as e:\n",
    "            pass\n",
    "        k += 1\n",
    "    batch_X = np.array(batch_X)\n",
    "    batch_y = np.array(batch_y)\n",
    "    return batch_X, batch_y"
   ]
  },
  {
   "cell_type": "code",
   "execution_count": null,
   "id": "d9a59170-c574-4328-b610-f1b03c634831",
   "metadata": {},
   "outputs": [],
   "source": [
    "CRS = GoogleMapsTiles.CRS"
   ]
  },
  {
   "cell_type": "code",
   "execution_count": null,
   "id": "75716425-2588-4195-aca3-0014af8514d8",
   "metadata": {},
   "outputs": [],
   "source": [
    "france = gpd.read_file(\"data/france/FRA_adm1.shp\").simplify(0.0001).unary_union"
   ]
  },
  {
   "cell_type": "code",
   "execution_count": null,
   "id": "7848af36-f1c3-4d2c-9f88-d11962b28c37",
   "metadata": {},
   "outputs": [],
   "source": [
    "gen = generator_points_in_polygon(polygon=france)"
   ]
  },
  {
   "cell_type": "code",
   "execution_count": null,
   "id": "28fdcfd4-08c1-4393-8a56-51e349dad0bf",
   "metadata": {},
   "outputs": [],
   "source": [
    "n_batches = 100\n",
    "batch_size = 32\n",
    "for zoom in (14, 15, 16):\n",
    "    os.makedirs(f'data/learning_base/zoom_level_{zoom}/')\n",
    "    for k in tqdm(range(n_batches)):\n",
    "        batch_X, batch_y = compute_batch(gen=gen, zoom=zoom, batch_size=batch_size, y_threshold=20)\n",
    "        np.savez_compressed(f\"data/learning_base/zoom_level_{zoom}/batch_{hex(hash(pd.Timestamp.now())).split('0x')[1]}.npz\", X=batch_X, y=batch_y)"
   ]
  },
  {
   "cell_type": "code",
   "execution_count": null,
   "id": "757267d3-d86b-49f5-9350-1fc7cebc8442",
   "metadata": {},
   "outputs": [],
   "source": [
    "i0 = random.choice(range(len(batch_X)))\n",
    "plt.imshow(batch_X[i0])\n",
    "plt.imshow(np.flip(np.where(batch_y[i0] > 0, 1, np.nan), axis=0))\n",
    "plt.gca().set_aspect('equal')\n",
    "plt.gca().axis('off')\n",
    "plt.show()"
   ]
  }
 ],
 "metadata": {
  "kernelspec": {
   "display_name": "Python 3 (ipykernel)",
   "language": "python",
   "name": "python3"
  },
  "language_info": {
   "codemirror_mode": {
    "name": "ipython",
    "version": 3
   },
   "file_extension": ".py",
   "mimetype": "text/x-python",
   "name": "python",
   "nbconvert_exporter": "python",
   "pygments_lexer": "ipython3",
   "version": "3.10.14"
  }
 },
 "nbformat": 4,
 "nbformat_minor": 5
}
